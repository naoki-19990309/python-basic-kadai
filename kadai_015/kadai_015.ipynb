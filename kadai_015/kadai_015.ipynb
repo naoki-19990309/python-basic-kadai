{
  "nbformat": 4,
  "nbformat_minor": 0,
  "metadata": {
    "colab": {
      "provenance": []
    },
    "kernelspec": {
      "name": "python3",
      "display_name": "Python 3"
    },
    "language_info": {
      "name": "python"
    }
  },
  "cells": [
    {
      "cell_type": "code",
      "execution_count": 5,
      "metadata": {
        "colab": {
          "base_uri": "https://localhost:8080/"
        },
        "id": "tzRyz-YY96-e",
        "outputId": "962ead8c-6446-442f-aa5a-4e70aa611cda"
      },
      "outputs": [
        {
          "output_type": "stream",
          "name": "stdout",
          "text": [
            "原田（26歳）\n"
          ]
        }
      ],
      "source": [
        "class Human:\n",
        "  def __init__(self, name, age):\n",
        "    self.name = name\n",
        "    self.age = age\n",
        "\n",
        "  def printinfo(self):\n",
        "   print(f\"{self.name}（{self.age}歳）\")\n",
        "\n",
        "\n",
        "me = Human(\"原田\", 26)\n",
        "me.printinfo()"
      ]
    }
  ]
}