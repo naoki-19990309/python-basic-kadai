{
  "cells": [
    {
      "cell_type": "markdown",
      "metadata": {
        "id": "ZOaEg5S1RPAL"
      },
      "source": [
        "上辺：10cm\n",
        "下辺：20cm\n",
        "高さ：5cm\n",
        "\n",
        "公式：台形の面積 =（上辺＋下辺）× 高さ ÷ 2"
      ]
    },
    {
      "cell_type": "code",
      "execution_count": 1,
      "metadata": {
        "colab": {
          "base_uri": "https://localhost:8080/"
        },
        "id": "MjdmDT4PRQ5b",
        "outputId": "0235bfbb-7841-42be-ee74-72f0eb30c3d3"
      },
      "outputs": [
        {
          "name": "stdout",
          "output_type": "stream",
          "text": [
            "75.0cm²\n"
          ]
        }
      ],
      "source": [
        "area_trapezoid = (10 + 20) * 5 / 2\n",
        "print(str(area_trapezoid) + \"cm²\")"
      ]
    }
  ],
  "metadata": {
    "colab": {
      "provenance": []
    },
    "kernelspec": {
      "display_name": "Python 3",
      "name": "python3"
    },
    "language_info": {
      "name": "python"
    }
  },
  "nbformat": 4,
  "nbformat_minor": 0
}
